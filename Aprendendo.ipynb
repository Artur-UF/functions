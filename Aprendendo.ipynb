{
  "nbformat": 4,
  "nbformat_minor": 0,
  "metadata": {
    "colab": {
      "name": "Aprendendo.ipynb",
      "provenance": [],
      "toc_visible": true,
      "authorship_tag": "ABX9TyNDZpt5yTQ9A1gvO490bUi8",
      "include_colab_link": true
    },
    "kernelspec": {
      "name": "python3",
      "display_name": "Python 3"
    },
    "language_info": {
      "name": "python"
    }
  },
  "cells": [
    {
      "cell_type": "markdown",
      "metadata": {
        "id": "view-in-github",
        "colab_type": "text"
      },
      "source": [
        "<a href=\"https://colab.research.google.com/github/Artur-UF/functions/blob/main/Aprendendo.ipynb\" target=\"_parent\"><img src=\"https://colab.research.google.com/assets/colab-badge.svg\" alt=\"Open In Colab\"/></a>"
      ]
    },
    {
      "cell_type": "markdown",
      "metadata": {
        "id": "AkUQuczdrgoT"
      },
      "source": [
        "#Imports"
      ]
    },
    {
      "cell_type": "code",
      "metadata": {
        "id": "TrJzrWdtrmKE"
      },
      "source": [
        "import numpy as np\n",
        "import matplotlib.pyplot as plt"
      ],
      "execution_count": null,
      "outputs": []
    },
    {
      "cell_type": "markdown",
      "metadata": {
        "id": "u-bK0Dw_IxB5"
      },
      "source": [
        "#Rascunho"
      ]
    },
    {
      "cell_type": "code",
      "metadata": {
        "colab": {
          "base_uri": "https://localhost:8080/",
          "height": 283
        },
        "id": "Zi6b-ATNIyuK",
        "outputId": "115980f0-32ba-4ad2-9be1-eb9e2780d6ca"
      },
      "source": [
        "e = np.e\n",
        "c1, c2 = 1, 1\n",
        "x = lambda t: c1 + c2*3*(e**t) - 8*t - 9\n",
        "y = lambda t: c1 + c2*2*(e**t) - 8*t - 6\n",
        "x1 = lambda t: c1 + c2*3*(e**t) - 11*t - 15\n",
        "y1 = lambda t: c1 + c2*2*(e**t) - 11*t - 10\n",
        "t = np.linspace(0, 1)\n",
        "\n",
        "plt.plot(x(t), y(t))\n",
        "plt.plot(x1(t), y1(t))"
      ],
      "execution_count": null,
      "outputs": [
        {
          "output_type": "execute_result",
          "data": {
            "text/plain": [
              "[<matplotlib.lines.Line2D at 0x7f544dae23d0>]"
            ]
          },
          "metadata": {},
          "execution_count": 12
        },
        {
          "output_type": "display_data",
          "data": {
            "image/png": "[encoded data removed]",
            "text/plain": [
              "<Figure size 432x288 with 1 Axes>"
            ]
          },
          "metadata": {
            "needs_background": "light"
          }
        }
      ]
    },
    {
      "cell_type": "markdown",
      "metadata": {
        "id": "1MDUQB0OCasV"
      },
      "source": [
        "#Troca de formato decimal"
      ]
    },
    {
      "cell_type": "code",
      "metadata": {
        "id": "2KHJFbqVCQt4"
      },
      "source": [
        "def formato(ark1, ark2, type=1):\n",
        "    '''\n",
        "    Troca o formato decimal de um arquivo, de separação\n",
        "    decimal com ponto ou vírgula\n",
        "    :param ark1: nome do aqruivo a ser mudado\n",
        "    :param ark2: arquivo novo a ser criado\n",
        "    :param type: typo de troca\n",
        "    :return: cria o novo arquivo\n",
        "    '''\n",
        "    file = open(ark1, 'r+')\n",
        "    newfile = open(ark2, 'w')\n",
        "    if type == 1:\n",
        "        for i in file.readlines():\n",
        "            newfile.write(i.replace(',', '.'))\n",
        "    else:\n",
        "        for i in file.readlines():\n",
        "            newfile.write(i.replace('.', ','))\n",
        "    file.close()\n",
        "    newfile.close()"
      ],
      "execution_count": null,
      "outputs": []
    },
    {
      "cell_type": "markdown",
      "metadata": {
        "id": "-X-xALr9MWUx"
      },
      "source": [
        "#Decifradores"
      ]
    },
    {
      "cell_type": "code",
      "metadata": {
        "colab": {
          "base_uri": "https://localhost:8080/",
          "height": 54
        },
        "id": "PydrYQ7GMZK6",
        "outputId": "eae1c1a2-206d-4214-9054-e8acca6bf2d9"
      },
      "source": [
        "# Tradutor de Morse\n",
        "\n",
        "def morse(txt, to='morse'):\n",
        "  '''\n",
        "  Tradutor ambidirecional de morse, qualquer argumento\n",
        "  além de to='morse' traduz morse para alfabético\n",
        "  txt: mensagem\n",
        "  to: cifrar ou decifrar\n",
        "  return: a mensagem cifrada ou decifrada\n",
        "  '''\n",
        "  dici = {\n",
        "  'e':'.', \n",
        "  't':'-', \n",
        "  'i':'..', \n",
        "  'a':'.-', \n",
        "  'n':'-.', \n",
        "  'm':'--', \n",
        "  's':'...', \n",
        "  'u':'..-', \n",
        "  'r':'.-.', \n",
        "  'w':'.--', \n",
        "  'd':'-..', \n",
        "  'k':'-.-', \n",
        "  'g':'--.', \n",
        "  'o':'---', \n",
        "  'h':'....', \n",
        "  'v':'...-', \n",
        "  'f':'..-.', \n",
        "  'l':'.-..', \n",
        "  'p':'.--.', \n",
        "  'j':'.---', \n",
        "  'b':'-...', \n",
        "  'x':'-..-', \n",
        "  'c':'-.-.', \n",
        "  'y':'-.--', \n",
        "  'z':'--..', \n",
        "  'q':'--.-', \n",
        "  '1':'.----', \n",
        "  '2':'..---', \n",
        "  '3':'...--', \n",
        "  '4':'....-', \n",
        "  '5':'.....', \n",
        "  '6':'-....', \n",
        "  '7':'--...', \n",
        "  '8':'---..', \n",
        "  '9':'----.', \n",
        "  '0':'-----'}\n",
        "  ttxt = []\n",
        "  if to == 'morse':\n",
        "    txt = txt.lower().split()\n",
        "    for p in txt:\n",
        "      pal = []\n",
        "      for l in p:\n",
        "        if l not in dici:\n",
        "          pal.append(l)\n",
        "        else:\n",
        "          pal.append(dici[l])\n",
        "      ttxt.append(' '.join(pal))\n",
        "    ttxt = ' / '.join(ttxt)\n",
        "  else:\n",
        "    dici = dict(zip(dici.values(), dici.keys()))\n",
        "    txt = txt.split('/')\n",
        "    for p in txt:\n",
        "      pal = []\n",
        "      p = p.strip().split(' ')\n",
        "      for l in p:\n",
        "        if l not in dici:\n",
        "          pal.append(l)\n",
        "        else:\n",
        "          pal.append(dici[l])\n",
        "      ttxt.append(''.join(pal))\n",
        "    ttxt = ' '.join(ttxt)\n",
        "  return ttxt\n",
        "morse('fiz um script em python que traduz codigo morse :)')"
      ],
      "execution_count": null,
      "outputs": [
        {
          "output_type": "execute_result",
          "data": {
            "application/vnd.google.colaboratory.intrinsic+json": {
              "type": "string"
            },
            "text/plain": [
              "'..-. .. --.. / ..- -- / ... -.-. .-. .. .--. - / . -- / .--. -.-- - .... --- -. / --.- ..- . / - .-. .- -.. ..- --.. / -.-. --- -.. .. --. --- / -- --- .-. ... . / : )'"
            ]
          },
          "metadata": {},
          "execution_count": 1
        }
      ]
    },
    {
      "cell_type": "code",
      "metadata": {
        "id": "KMz0MC5kMi3Q"
      },
      "source": [
        "# Tradutor zenit polar\n",
        "\n",
        "def zenitpolar(txt):\n",
        "  '''\n",
        "  Cifra e decifra mensagens em Zenit Polar.\n",
        "  txt: mensagem\n",
        "  return: se txt estiver normal retorna em zenit polar e se \n",
        "          estiver em zenit polar retorna normal\n",
        "  '''\n",
        "  zenit = {\n",
        "      'z':'p',\n",
        "      'e':'o',\n",
        "      'n':'l',\n",
        "      'i':'a',\n",
        "      't':'r'\n",
        "  }\n",
        "  polar = dict(zip(zenit.values(), zenit.keys()))\n",
        "  txt = txt.lower().strip().split()\n",
        "  ttxt = []\n",
        "  for p in txt:\n",
        "    pal = []\n",
        "    for l in p:\n",
        "      if l in zenit:\n",
        "        pal.append(zenit[l])\n",
        "      elif l in polar:\n",
        "        pal.append(polar[l])\n",
        "      else:\n",
        "        pal.append(l)\n",
        "    pal = ''.join(pal)\n",
        "    ttxt.append(pal)\n",
        "  return ' '.join(ttxt)\n",
        "\n",
        "zenitpolar('criei um scritp em python pra zenit polar tambem :)')"
      ],
      "execution_count": null,
      "outputs": []
    },
    {
      "cell_type": "markdown",
      "metadata": {
        "id": "XwrSxfYo6EoM"
      },
      "source": [
        "#Dicionário com letras Gregas Unicode"
      ]
    },
    {
      "cell_type": "code",
      "metadata": {
        "id": "-NSr1Upb6LkH"
      },
      "source": [
        "symb = {\n",
        "    'alpha':'\\u03B1',\n",
        "    'Alpha':'\\u0391',\n",
        "    'beta':'\\u03B2',\n",
        "    'Beta':'\\u0392',\n",
        "    'gamma':'\\u03B3',\n",
        "    'Gamma':'\\u0393',\n",
        "    'delta':'\\u03B6',\n",
        "    'Delta':'\\u0394',\n",
        "    'epsilon':'\\u03B5',\n",
        "    'Epsilon':'\\u0395',\n",
        "    'zeta':'\\u03B6',\n",
        "    'Zeta':'\\u0396',\n",
        "    'eta':'\\u03B7',\n",
        "    'Eta':'\\u0397', \n",
        "    'theta':'\\u03B8',\n",
        "    'Theta':'\\u0398',\n",
        "    'iota':'\\u03B9',\n",
        "    'Iota':'\\u0399',\n",
        "    'kappa':'\\u03BA',\n",
        "    'Kappa':'\\u039A',\n",
        "    'lambda':'\\u03BB',\n",
        "    'Lambda':'\\u039B',\n",
        "    'mu':'\\u03BC',\n",
        "    'Mu':'\\u039C',\n",
        "    'nu':'\\u03BD',\n",
        "    'Nu':'\\u039D',\n",
        "    'xi':'\\u03BE',\n",
        "    'Xi':'\\u039E',\n",
        "    'omicron':'\\u03BF',\n",
        "    'Omicron':'\\u039F',\n",
        "    'pi':'\\u03C0',\n",
        "    'Pi':'\\u03A0',\n",
        "    'rho':'\\u03C1',\n",
        "    'Rho':'\\u03A1',\n",
        "    'varsigma':'\\u03C2',\n",
        "    'sigma':'\\u03C3',\n",
        "    'Sigma':'\\u03A3',\n",
        "    'tau':'\\u03C4',\n",
        "    'Tau':'\\u03A4',\n",
        "    'upsilon':'\\u03C5',\n",
        "    'Upsilon':'\\u03A5',\n",
        "    'phi':'\\u03C6',\n",
        "    'Phi':'\\u03A6',\n",
        "    'chi':'\\u03C7',\n",
        "    'Chi':'\\u03A7',\n",
        "    'psi':'\\u03C8',\n",
        "    'Psi':'\\u03A8',\n",
        "    'omega':'\\u03C9',\n",
        "    'Omega':'\\u03A9',\n",
        "    'vartheta':'\\u03F4',\n",
        "    'ihat':'i\\u0302',\n",
        "    'jhat':'j\\u0302',\n",
        "    'khat':'k\\u0302',\n",
        "    'uhat':'u\\u0302'\n",
        "}"
      ],
      "execution_count": null,
      "outputs": []
    },
    {
      "cell_type": "markdown",
      "metadata": {
        "id": "wSni5ZiUC71j"
      },
      "source": [
        "#Método dos mínimos quadrados"
      ]
    },
    {
      "cell_type": "code",
      "metadata": {
        "id": "ZJSrq6E8DBpC"
      },
      "source": [
        "# Meu\n",
        "\n",
        "def med(x):\n",
        "  return sum(x)/len(x)\n",
        "\n",
        "\n",
        "def minquad(x, y):\n",
        "    '''É uma função para determinar a função de primeiro grau\n",
        "    que melhor aproxima os dados colocados.\n",
        "    x: array com os dados de x\n",
        "    y: array com os dados de y\n",
        "    return: tupla com o termo independente, o coeficiente angular e suas\n",
        "    respectivas incertezas '''\n",
        "    sdx = sum(x)\n",
        "    sdy = sum(y)\n",
        "    n = len(x)\n",
        "    sdp = sum(x*y)\n",
        "    sqx = sum(x**2)\n",
        "    a = (sdp - (sdx*sdy)/n)/(sqx - (sdx**2)/n)\n",
        "    b = med(y) - a*med(x)\n",
        "    s = ((sum((y-a*x-b)**2))/(n-2))**(1/2)\n",
        "    aerr = s*(n/((n*sqx)-sdx**2))**(1/2)\n",
        "    berr = s*(sqx/((n*sqx)-sdx**2))**(1/2)\n",
        "    return a, b, aerr, berr\n",
        "\n",
        "\n",
        "  def wls(x, y, yerr):\n",
        "    '''Método dos mínimos quadrados ponderada, aproxima uma reta de um conjunto\n",
        "    de pontos levando em conta o peso do erro de cada ponto em y.\n",
        "    x: array dos pontos em x\n",
        "    y: array dos pontos em y\n",
        "    yerr: array com os erros de cada ponto em y\n",
        "    return: os coeficientes a, b e suas respectivas incertezas\n",
        "    '''\n",
        "    n = len(x)\n",
        "    sdx = sum(x/(yerr**2))\n",
        "    sdy = sum(y/(yerr**2))\n",
        "    sdp = sum(x*y/(yerr**2))\n",
        "    syr = sum(1/(yerr**2))\n",
        "    sqx = sum((x**2)/(yerr**2))\n",
        "    a = (sdx*sdy - sdp*syr)/(sdx**2 - sqx*syr)\n",
        "    b = (sdp - a*sqx)/(sdx)\n",
        "    aerr = (syr/(sqx*syr-sdx**2))**(1/2)\n",
        "    berr = (sqx/(sqx*syr-sdx**2))**(1/2)\n",
        "    return a, b, aerr, berr"
      ],
      "execution_count": null,
      "outputs": []
    },
    {
      "cell_type": "code",
      "metadata": {
        "id": "_iO7BWON-eIM"
      },
      "source": [
        "# De Met Comp\n",
        "\n",
        "def aj_lin(xi, yi):\n",
        "    '''\n",
        "    Realiza o ajuste linear de pontos em uma reta de ajuste no formato \"y = ax + b\"\n",
        "    :param xi: coordenadas x dos pontos\n",
        "    :param yi: coordenadas y dos pontos\n",
        "    :return: coeficiente angular \"a\" e coeficiente linear \"b\" da reta de ajuste\n",
        "    '''\n",
        "    n = len(xi)\n",
        "    mxy = sum(xi*yi)/n\n",
        "    mx = sum(xi)/n\n",
        "    my = sum(yi)/n\n",
        "    mqx = sum(xi**2)/n\n",
        "    a = (mxy - (mx*my))/(mqx - (mx**2))\n",
        "    b = ((mqx*my) - (mx*mxy))/(mqx - (mx**2))\n",
        "    return a, b"
      ],
      "execution_count": null,
      "outputs": []
    },
    {
      "cell_type": "code",
      "metadata": {
        "colab": {
          "base_uri": "https://localhost:8080/"
        },
        "id": "1CMqpQKUSxD4",
        "outputId": "f38b9660-7773-4462-c71e-4c808f1ff418"
      },
      "source": [
        "a = np.array([88.03, 88.26])\n",
        "b = np.array([0.81536, 0.81274])\n",
        "c = minquad(a, b)\n",
        "x = (c[0]-0.8149)/c[1]\n",
        "print(c)\n",
        "print(x)"
      ],
      "execution_count": null,
      "outputs": [
        {
          "output_type": "stream",
          "name": "stdout",
          "text": [
            "(1.8181365218916312, -0.011391304349556198)\n",
            "-88.07038167940067\n"
          ]
        }
      ]
    },
    {
      "cell_type": "markdown",
      "metadata": {
        "id": "-Q-uhdCxS-dn"
      },
      "source": [
        "# Coeficiente de Correlação de Pearson"
      ]
    },
    {
      "cell_type": "code",
      "metadata": {
        "id": "yg7kjBIgTHzH"
      },
      "source": [
        "def cofcor(x, y):\n",
        "  '''Calcula o coeficiente e quanto mais perto de 1 melhor a correlação positiva\n",
        "  e quanto mais perto de -1 melhor a correlação negativa. Se quiser o R² só \n",
        "  eleva o retorno ao quadrado\n",
        "  x: array com as coordenadas em x\n",
        "  y: array com as coordenadas em y\n",
        "  return: o coeficiente\n",
        "  '''\n",
        "  sdx = sum(x)\n",
        "  sdy = sum(y)\n",
        "  sdp = sum(x*y)\n",
        "  sqx = sum(x**2)\n",
        "  sqy = sum(y**2)\n",
        "  n = len(x)\n",
        "  sxx = sqx - (sdx**2)/n\n",
        "  syy = sqy - (sdy**2)/n\n",
        "  sxy = sdq - (sdx*sdy)/n\n",
        "  r = sxy/(sxx*syy)**(1/2)\n",
        "  return r"
      ],
      "execution_count": null,
      "outputs": []
    },
    {
      "cell_type": "markdown",
      "metadata": {
        "id": "7HdFCCsgrWVA"
      },
      "source": [
        "#Operações com matrizes"
      ]
    },
    {
      "cell_type": "code",
      "metadata": {
        "id": "hBIP0abLraPf"
      },
      "source": [
        "def mtxp(a, b):\n",
        "  '''Multiplica matrizes de toda maneira possível (não só as quadradas)\n",
        "  a, b: as matrizes\n",
        "  return: a matriz resultante\n",
        "  '''\n",
        "  m, n, o, p = len(a), len(a[0]), len(b), len(b[0])\n",
        "  c = np.zeros((m, p), dtype=np.int16)\n",
        "  for i in range(m):\n",
        "    for j in range(p):\n",
        "      for k in range(o):\n",
        "        c[i][j] += a[i][k]*b[k][j]\n",
        "  return c\n",
        "  # faz a mesma coisa que np.dot()"
      ],
      "execution_count": null,
      "outputs": []
    },
    {
      "cell_type": "code",
      "metadata": {
        "id": "SPt6VMR09f7v"
      },
      "source": [
        "a = np.array([[1, 2, 3, 4, 5], [1, 4, 9, 16, 25]])\n",
        "b = np.array([[1, 1], [2, 4], [3, 9], [4, 16], [5, 25]])\n",
        "print(a)\n",
        "print(b)\n",
        "c = mtxp(a, b)\n",
        "d = np.dot(a, b)\n",
        "print(d)\n",
        "print(c)\n"
      ],
      "execution_count": null,
      "outputs": []
    },
    {
      "cell_type": "markdown",
      "metadata": {
        "id": "2oR1w8I1m345"
      },
      "source": [
        "#Bhaskara"
      ]
    },
    {
      "cell_type": "code",
      "metadata": {
        "id": "ixbG3dhym7vx"
      },
      "source": [
        "def bhaskara(a, b, c):\n",
        "  '''Calcula as duas raízes de uma equação quadrática do formato\n",
        "  \"ax^2 + bx + c\"\n",
        "  a, b, c: coeficientes da equação\n",
        "  return: uma tupla com as raízes\n",
        "  '''\n",
        "  delta = b**2 - 4*a*c\n",
        "  x1 = (-b+((delta)**(1/2)))/(2*a)\n",
        "  x2 = (-b-((delta)**(1/2)))/(2*a)\n",
        "  return x1, x2"
      ],
      "execution_count": null,
      "outputs": []
    },
    {
      "cell_type": "code",
      "metadata": {
        "id": "kegmxF1rnp6q",
        "colab": {
          "base_uri": "https://localhost:8080/"
        },
        "outputId": "751b54da-86aa-4a30-d157-1d99a58a1bad"
      },
      "source": [
        "bhaskara(1, 5.57e-10, -.25*5.57e-10)"
      ],
      "execution_count": null,
      "outputs": [
        {
          "output_type": "execute_result",
          "data": {
            "text/plain": [
              "(1.1800145224492365e-05, -1.1800702224492365e-05)"
            ]
          },
          "metadata": {},
          "execution_count": 3
        }
      ]
    },
    {
      "cell_type": "markdown",
      "metadata": {
        "id": "Zz2wyyVZ55XW"
      },
      "source": [
        "#Derivada Numérica"
      ]
    },
    {
      "cell_type": "code",
      "metadata": {
        "id": "v_U5vxnZ59an"
      },
      "source": [
        "def dvcen(func, x, dx):\n",
        "  '''Método numérico da derivada centrada\n",
        "  func: função\n",
        "  x: ponto no qual será derivada\n",
        "  dx: delta de x\n",
        "  return: o valor da derivada no ponto x\n",
        "  '''\n",
        "  return (func(x + dx) - func(x - dx))/(2*dx)"
      ],
      "execution_count": null,
      "outputs": []
    },
    {
      "cell_type": "markdown",
      "metadata": {
        "id": "c5qDl-z03f9r"
      },
      "source": [
        "#Métodos para encontrar raízes"
      ]
    },
    {
      "cell_type": "code",
      "metadata": {
        "id": "JxznTZhj3m2o"
      },
      "source": [
        "#Método da Bissecção\n",
        "\n",
        "\n",
        "def bissec(fx, a, b, e):\n",
        "  '''Essa função retorna um zero da função caso ele se encontre dentro\n",
        "  do intervalo estipulado.\n",
        "  fx: função\n",
        "  a: limite à esquerda do intervalo\n",
        "  b: limite à direita do intervalo\n",
        "  e: tolerância\n",
        "  return: a raiz dentro do intervalo (se tiver)\n",
        "  '''\n",
        "  if fx(a)*fx(b) < 0:\n",
        "    xm = (a+b)/2\n",
        "    while abs(fx(xm)) > e:\n",
        "      if fx(a)*fx(xm) < 0:\n",
        "        b = xm\n",
        "        xm = (a+b)/2\n",
        "      elif fx(xm)*fx(b) < 0:\n",
        "        a = xm\n",
        "        xm = (a+b)/2\n",
        "    return xm  \n",
        "  elif fx(a)*fx(b) == 0:\n",
        "    if fx(a) == 0:\n",
        "      return a\n",
        "    else:\n",
        "      return b\n",
        "  else:\n",
        "    print('Esse intervalo não contem o zero da função ou contem mais de um zero')"
      ],
      "execution_count": null,
      "outputs": []
    },
    {
      "cell_type": "code",
      "metadata": {
        "colab": {
          "base_uri": "https://localhost:8080/"
        },
        "id": "D9vt_6R1--d2",
        "outputId": "250c3888-df3a-4731-c754-acb87d226a23"
      },
      "source": [
        "fx = lambda x: ((0.002889-x)*0.56102)/(1.795e-5*.465)\n",
        "bissec(fx, 1, 0, 1e-8)"
      ],
      "execution_count": null,
      "outputs": [
        {
          "output_type": "execute_result",
          "data": {
            "text/plain": [
              "0.002888999999868247"
            ]
          },
          "metadata": {},
          "execution_count": 6
        }
      ]
    },
    {
      "cell_type": "code",
      "metadata": {
        "id": "3QYmNcpQ3-rs"
      },
      "source": [
        "#Método de Newton\n",
        "\n",
        "#Esse precisa da derivada\n",
        "\n",
        "\n",
        "def met_new(fx, start, e):\n",
        "  '''Método de Newton para encontrar uma raíz de uma função.\n",
        "  fx: função\n",
        "  start: ponto de partida para começar a busca\n",
        "  e: tolerância para a precisão da resposta\n",
        "  return: retorna a raíz\n",
        "  '''\n",
        "  x0 = start\n",
        "  y0 = fx(start)\n",
        "  while abs(fx(x0)) > e:\n",
        "    df = dvcen(fx, x0, 1e-8)\n",
        "    gy = lambda y: (y - y0)/df  + x0\n",
        "    x0 = gy(0)\n",
        "    y0 = fx(x0)\n",
        "  return x0"
      ],
      "execution_count": null,
      "outputs": []
    },
    {
      "cell_type": "code",
      "metadata": {
        "id": "QY4s30W1GvaV"
      },
      "source": [
        "#Método da Secante\n",
        "\n",
        "def secante(f,a,b,e):     \n",
        "    ''' função que implementa o método da secante\n",
        "    e: tolerância\n",
        "    f: função f(x)\n",
        "    a: ponto inicial\n",
        "    b: ponto final\n",
        "    c: novo ponto\n",
        "    return: a raiz dentro do intervalo (se tiver) \n",
        "    '''\n",
        "    c = a - (b-a)*f(a)/(f(b)-f(a))     # calcula novo ponto\n",
        "    while abs(f(c))>e:                 # repete enquanto |f(c)| < tolerância\n",
        "        if abs(b-c) > abs(c-a):                    \n",
        "            b = c                      # muda parâmetros\n",
        "        else: \n",
        "            a = b\n",
        "            b = c\n",
        "        c = a - (b-a)*f(a)/(f(b)-f(a))\n",
        "    return c\n"
      ],
      "execution_count": null,
      "outputs": []
    },
    {
      "cell_type": "markdown",
      "metadata": {
        "id": "01JId3k31UxY"
      },
      "source": [
        "#Interpolação"
      ]
    },
    {
      "cell_type": "code",
      "metadata": {
        "id": "0Dj8ydn81b1a"
      },
      "source": [
        "# Polinômios de Lagrange\n",
        "\n",
        "def p_lagrange(p, x):\n",
        "  '''Utiliza os polinômios de Lagrange para interpolar os pontos e criar uma\n",
        "   função (numéricamente).\n",
        "   p: array bidimensional com n pontos com coordenadas em [x, y]\n",
        "   x: variável na qual a função é calculada numéricamente\n",
        "   return: o valor de polinomio(x)\n",
        "  '''\n",
        "  px = 0\n",
        "  n = p.shape[0]\n",
        "  for i in range(n):\n",
        "    li = 1\n",
        "    for j in range(n):\n",
        "      if i != j:\n",
        "        li *= (x-p[j, 0])/(p[i, 0] - p[j, 0])\n",
        "    px += p[i, 1]*li\n",
        "  return px"
      ],
      "execution_count": null,
      "outputs": []
    },
    {
      "cell_type": "code",
      "metadata": {
        "id": "M85RgPMh1jhY"
      },
      "source": [
        "# Algoritmo de Neville\n",
        "\n",
        "def al_neville(x, p):\n",
        "  '''Faz a interpolação dos pontos p em x.\n",
        "  x: array com valores em x a serem calculados\n",
        "  p: array bidimensional com os pontos a serem interpolados no formato [x, y]\n",
        "  return: array com os valores em y calculados com a função e os pontos em x \n",
        "  '''\n",
        "  n = p.shape[0]\n",
        "  m0 = np.zeros((n, n))\n",
        "  m0[:, 0] = p[:, 1]\n",
        "  y = []\n",
        "  for xv in x:\n",
        "    for j in range(1, n):\n",
        "      for i in range(n-j):\n",
        "        m0[i, j] = ((xv - p[i+j, 0])*m0[i, j-1] - (xv - p[i, 0])*m0[i+1, j-1])/(p[i, 0] - p[i+j, 0])\n",
        "    y.append(m0[0, n-1])\n",
        "  return y\n",
        "  "
      ],
      "execution_count": null,
      "outputs": []
    },
    {
      "cell_type": "markdown",
      "metadata": {
        "id": "fpyKjlHK9836"
      },
      "source": [
        "#Integral"
      ]
    },
    {
      "cell_type": "code",
      "metadata": {
        "id": "MQEpOv9m9_hY"
      },
      "source": [
        "# Integral pelo trapézio\n",
        "\n",
        "def int_trap(func, a, b, n):\n",
        "  '''Calcula a integral de uma função entre os limites a e b pela área de n\n",
        "  trapézios.\n",
        "  func: função analítica\n",
        "  a, b: limites inferior e superior\n",
        "  n: número de secções da área sob a função\n",
        "  '''\n",
        "  dx = (b - a)/n\n",
        "  sdx = (func(a) + func(b))/2\n",
        "  for i in range(1, n):\n",
        "    sdx += func(a + i*dx)\n",
        "  return sdx*dx"
      ],
      "execution_count": null,
      "outputs": []
    },
    {
      "cell_type": "code",
      "metadata": {
        "id": "U0eSmJ_if1lQ"
      },
      "source": [
        "# Método de Simpson\n",
        "\n",
        "def int_simpson(fx, a, b, n):\n",
        "  '''Integração pelo Método de Simpson.\n",
        "  fx: função a ser integrada\n",
        "  a, b: limites inferior e superior para a integração\n",
        "  n: número de secções da área integrada\n",
        "  return: o valor da integral definida de fx\n",
        "  '''\n",
        "  if n % 2 != 0:\n",
        "    n += 1\n",
        "  h = (b-a)/n\n",
        "  x = list(a+(j*h) for j in range(n+1))\n",
        "  si = 4*sum(map(fx, x[1:n:2]))\n",
        "  sp = 2*sum(map(fx, x[2:n-1:2]))\n",
        "  return (h/3)*(fx(a) + fx(b) + si + sp)"
      ],
      "execution_count": null,
      "outputs": []
    },
    {
      "cell_type": "code",
      "metadata": {
        "id": "F4hWQtpK26ic"
      },
      "source": [
        "# Integral com pontos igualmente espaçados\n",
        "\n",
        "def int_pontos(yi, dx):\n",
        "  '''\n",
        "  Função que calcula numericamente através do método do trapézio a integral de\n",
        "  uma dispersão de pontos.\n",
        "  yi: as ordenadas dos pontos\n",
        "  dx: a espessura dos trapézios\n",
        "  return: valor da integral\n",
        "  '''\n",
        "  fx = (yi[0] + yi[-1])/2 + sum(yi[1:-1])\n",
        "  return fx*dx"
      ],
      "execution_count": null,
      "outputs": []
    }
  ]
}